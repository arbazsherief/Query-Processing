{
  "nbformat": 4,
  "nbformat_minor": 0,
  "metadata": {
    "colab": {
      "provenance": [],
      "authorship_tag": "ABX9TyOy6FkFBC15fa3oIxnXQWZv",
      "include_colab_link": true
    },
    "kernelspec": {
      "name": "python3",
      "display_name": "Python 3"
    },
    "language_info": {
      "name": "python"
    }
  },
  "cells": [
    {
      "cell_type": "markdown",
      "metadata": {
        "id": "view-in-github",
        "colab_type": "text"
      },
      "source": [
        "<a href=\"https://colab.research.google.com/github/arbazsherief/Query-Processing/blob/main/Exp11_Higlighting_Nan_values.ipynb\" target=\"_parent\"><img src=\"https://colab.research.google.com/assets/colab-badge.svg\" alt=\"Open In Colab\"/></a>"
      ]
    },
    {
      "cell_type": "code",
      "execution_count": 1,
      "metadata": {
        "colab": {
          "base_uri": "https://localhost:8080/",
          "height": 363
        },
        "id": "W4t3_o7Mqa-f",
        "outputId": "a68b3097-205d-4dfa-a141-59571e0298ae"
      },
      "outputs": [
        {
          "output_type": "execute_result",
          "data": {
            "text/plain": [
              "<pandas.io.formats.style.Styler at 0x7ebd4ac22ad0>"
            ],
            "text/html": [
              "<style type=\"text/css\">\n",
              "#T_fd7f8_row2_col0, #T_fd7f8_row2_col3, #T_fd7f8_row6_col0, #T_fd7f8_row6_col3, #T_fd7f8_row7_col0, #T_fd7f8_row7_col3, #T_fd7f8_row8_col0, #T_fd7f8_row8_col3 {\n",
              "  background-color: red;\n",
              "}\n",
              "</style>\n",
              "<table id=\"T_fd7f8\" class=\"dataframe\">\n",
              "  <thead>\n",
              "    <tr>\n",
              "      <th class=\"blank level0\" >&nbsp;</th>\n",
              "      <th id=\"T_fd7f8_level0_col0\" class=\"col_heading level0 col0\" >Column1</th>\n",
              "      <th id=\"T_fd7f8_level0_col1\" class=\"col_heading level0 col1\" >Column2</th>\n",
              "      <th id=\"T_fd7f8_level0_col2\" class=\"col_heading level0 col2\" >Column3</th>\n",
              "      <th id=\"T_fd7f8_level0_col3\" class=\"col_heading level0 col3\" >Column4</th>\n",
              "    </tr>\n",
              "  </thead>\n",
              "  <tbody>\n",
              "    <tr>\n",
              "      <th id=\"T_fd7f8_level0_row0\" class=\"row_heading level0 row0\" >0</th>\n",
              "      <td id=\"T_fd7f8_row0_col0\" class=\"data row0 col0\" >0.964528</td>\n",
              "      <td id=\"T_fd7f8_row0_col1\" class=\"data row0 col1\" >-0.213868</td>\n",
              "      <td id=\"T_fd7f8_row0_col2\" class=\"data row0 col2\" >-0.358205</td>\n",
              "      <td id=\"T_fd7f8_row0_col3\" class=\"data row0 col3\" >-0.180682</td>\n",
              "    </tr>\n",
              "    <tr>\n",
              "      <th id=\"T_fd7f8_level0_row1\" class=\"row_heading level0 row1\" >1</th>\n",
              "      <td id=\"T_fd7f8_row1_col0\" class=\"data row1 col0\" >-0.798727</td>\n",
              "      <td id=\"T_fd7f8_row1_col1\" class=\"data row1 col1\" >1.443579</td>\n",
              "      <td id=\"T_fd7f8_row1_col2\" class=\"data row1 col2\" >1.072540</td>\n",
              "      <td id=\"T_fd7f8_row1_col3\" class=\"data row1 col3\" >0.131535</td>\n",
              "    </tr>\n",
              "    <tr>\n",
              "      <th id=\"T_fd7f8_level0_row2\" class=\"row_heading level0 row2\" >2</th>\n",
              "      <td id=\"T_fd7f8_row2_col0\" class=\"data row2 col0\" >nan</td>\n",
              "      <td id=\"T_fd7f8_row2_col1\" class=\"data row2 col1\" >-0.476727</td>\n",
              "      <td id=\"T_fd7f8_row2_col2\" class=\"data row2 col2\" >-1.188740</td>\n",
              "      <td id=\"T_fd7f8_row2_col3\" class=\"data row2 col3\" >nan</td>\n",
              "    </tr>\n",
              "    <tr>\n",
              "      <th id=\"T_fd7f8_level0_row3\" class=\"row_heading level0 row3\" >3</th>\n",
              "      <td id=\"T_fd7f8_row3_col0\" class=\"data row3 col0\" >0.499535</td>\n",
              "      <td id=\"T_fd7f8_row3_col1\" class=\"data row3 col1\" >-0.583311</td>\n",
              "      <td id=\"T_fd7f8_row3_col2\" class=\"data row3 col2\" >-1.163225</td>\n",
              "      <td id=\"T_fd7f8_row3_col3\" class=\"data row3 col3\" >0.199957</td>\n",
              "    </tr>\n",
              "    <tr>\n",
              "      <th id=\"T_fd7f8_level0_row4\" class=\"row_heading level0 row4\" >4</th>\n",
              "      <td id=\"T_fd7f8_row4_col0\" class=\"data row4 col0\" >1.501848</td>\n",
              "      <td id=\"T_fd7f8_row4_col1\" class=\"data row4 col1\" >-0.152443</td>\n",
              "      <td id=\"T_fd7f8_row4_col2\" class=\"data row4 col2\" >-0.296796</td>\n",
              "      <td id=\"T_fd7f8_row4_col3\" class=\"data row4 col3\" >0.541271</td>\n",
              "    </tr>\n",
              "    <tr>\n",
              "      <th id=\"T_fd7f8_level0_row5\" class=\"row_heading level0 row5\" >5</th>\n",
              "      <td id=\"T_fd7f8_row5_col0\" class=\"data row5 col0\" >-0.073319</td>\n",
              "      <td id=\"T_fd7f8_row5_col1\" class=\"data row5 col1\" >0.124483</td>\n",
              "      <td id=\"T_fd7f8_row5_col2\" class=\"data row5 col2\" >0.774282</td>\n",
              "      <td id=\"T_fd7f8_row5_col3\" class=\"data row5 col3\" >-0.449589</td>\n",
              "    </tr>\n",
              "    <tr>\n",
              "      <th id=\"T_fd7f8_level0_row6\" class=\"row_heading level0 row6\" >6</th>\n",
              "      <td id=\"T_fd7f8_row6_col0\" class=\"data row6 col0\" >nan</td>\n",
              "      <td id=\"T_fd7f8_row6_col1\" class=\"data row6 col1\" >-0.628913</td>\n",
              "      <td id=\"T_fd7f8_row6_col2\" class=\"data row6 col2\" >0.486275</td>\n",
              "      <td id=\"T_fd7f8_row6_col3\" class=\"data row6 col3\" >nan</td>\n",
              "    </tr>\n",
              "    <tr>\n",
              "      <th id=\"T_fd7f8_level0_row7\" class=\"row_heading level0 row7\" >7</th>\n",
              "      <td id=\"T_fd7f8_row7_col0\" class=\"data row7 col0\" >nan</td>\n",
              "      <td id=\"T_fd7f8_row7_col1\" class=\"data row7 col1\" >-1.025357</td>\n",
              "      <td id=\"T_fd7f8_row7_col2\" class=\"data row7 col2\" >0.070278</td>\n",
              "      <td id=\"T_fd7f8_row7_col3\" class=\"data row7 col3\" >nan</td>\n",
              "    </tr>\n",
              "    <tr>\n",
              "      <th id=\"T_fd7f8_level0_row8\" class=\"row_heading level0 row8\" >8</th>\n",
              "      <td id=\"T_fd7f8_row8_col0\" class=\"data row8 col0\" >nan</td>\n",
              "      <td id=\"T_fd7f8_row8_col1\" class=\"data row8 col1\" >0.913926</td>\n",
              "      <td id=\"T_fd7f8_row8_col2\" class=\"data row8 col2\" >0.315651</td>\n",
              "      <td id=\"T_fd7f8_row8_col3\" class=\"data row8 col3\" >nan</td>\n",
              "    </tr>\n",
              "    <tr>\n",
              "      <th id=\"T_fd7f8_level0_row9\" class=\"row_heading level0 row9\" >9</th>\n",
              "      <td id=\"T_fd7f8_row9_col0\" class=\"data row9 col0\" >-0.096351</td>\n",
              "      <td id=\"T_fd7f8_row9_col1\" class=\"data row9 col1\" >-0.955967</td>\n",
              "      <td id=\"T_fd7f8_row9_col2\" class=\"data row9 col2\" >0.584279</td>\n",
              "      <td id=\"T_fd7f8_row9_col3\" class=\"data row9 col3\" >-2.584259</td>\n",
              "    </tr>\n",
              "  </tbody>\n",
              "</table>\n"
            ]
          },
          "metadata": {},
          "execution_count": 1
        }
      ],
      "source": [
        "import pandas as pd\n",
        "import numpy as np\n",
        "data = np.random.randn(10, 4)\n",
        "df = pd.DataFrame(data, columns=['Column1', 'Column2', 'Column3', 'Column4'])\n",
        "rows, cols = np.random.choice(10, size=5), np.random.choice(4, size=5)\n",
        "df.iloc[rows, cols] = np.nan\n",
        "styled_df = df.style.applymap(lambda val: f'background-color: red' if pd.isna(val) else '')\n",
        "styled_df"
      ]
    }
  ]
}