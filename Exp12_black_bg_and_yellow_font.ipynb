{
  "nbformat": 4,
  "nbformat_minor": 0,
  "metadata": {
    "colab": {
      "provenance": [],
      "authorship_tag": "ABX9TyOQnwLda8UFSRMfSC9It6Sl",
      "include_colab_link": true
    },
    "kernelspec": {
      "name": "python3",
      "display_name": "Python 3"
    },
    "language_info": {
      "name": "python"
    }
  },
  "cells": [
    {
      "cell_type": "markdown",
      "metadata": {
        "id": "view-in-github",
        "colab_type": "text"
      },
      "source": [
        "<a href=\"https://colab.research.google.com/github/arbazsherief/Query-Processing/blob/main/Exp12_black_bg_and_yellow_font.ipynb\" target=\"_parent\"><img src=\"https://colab.research.google.com/assets/colab-badge.svg\" alt=\"Open In Colab\"/></a>"
      ]
    },
    {
      "cell_type": "code",
      "execution_count": 1,
      "metadata": {
        "colab": {
          "base_uri": "https://localhost:8080/",
          "height": 363
        },
        "id": "Rop1uDZNq9Q_",
        "outputId": "0ad842da-df2c-4cb7-b265-c83bbd1bb455"
      },
      "outputs": [
        {
          "output_type": "execute_result",
          "data": {
            "text/plain": [
              "<pandas.io.formats.style.Styler at 0x7868a8f19660>"
            ],
            "text/html": [
              "<style type=\"text/css\">\n",
              "#T_0550a_row0_col0, #T_0550a_row0_col1, #T_0550a_row0_col2, #T_0550a_row0_col3, #T_0550a_row1_col0, #T_0550a_row1_col1, #T_0550a_row1_col2, #T_0550a_row1_col3, #T_0550a_row2_col0, #T_0550a_row2_col1, #T_0550a_row2_col2, #T_0550a_row2_col3, #T_0550a_row3_col0, #T_0550a_row3_col1, #T_0550a_row3_col2, #T_0550a_row3_col3, #T_0550a_row4_col0, #T_0550a_row4_col1, #T_0550a_row4_col2, #T_0550a_row4_col3, #T_0550a_row5_col0, #T_0550a_row5_col1, #T_0550a_row5_col2, #T_0550a_row5_col3, #T_0550a_row6_col0, #T_0550a_row6_col1, #T_0550a_row6_col2, #T_0550a_row6_col3, #T_0550a_row7_col0, #T_0550a_row7_col1, #T_0550a_row7_col2, #T_0550a_row7_col3, #T_0550a_row8_col0, #T_0550a_row8_col1, #T_0550a_row8_col2, #T_0550a_row8_col3, #T_0550a_row9_col0, #T_0550a_row9_col1, #T_0550a_row9_col2, #T_0550a_row9_col3 {\n",
              "  background-color: black;\n",
              "  color: yellow;\n",
              "}\n",
              "</style>\n",
              "<table id=\"T_0550a\" class=\"dataframe\">\n",
              "  <thead>\n",
              "    <tr>\n",
              "      <th class=\"blank level0\" >&nbsp;</th>\n",
              "      <th id=\"T_0550a_level0_col0\" class=\"col_heading level0 col0\" >Column1</th>\n",
              "      <th id=\"T_0550a_level0_col1\" class=\"col_heading level0 col1\" >Column2</th>\n",
              "      <th id=\"T_0550a_level0_col2\" class=\"col_heading level0 col2\" >Column3</th>\n",
              "      <th id=\"T_0550a_level0_col3\" class=\"col_heading level0 col3\" >Column4</th>\n",
              "    </tr>\n",
              "  </thead>\n",
              "  <tbody>\n",
              "    <tr>\n",
              "      <th id=\"T_0550a_level0_row0\" class=\"row_heading level0 row0\" >0</th>\n",
              "      <td id=\"T_0550a_row0_col0\" class=\"data row0 col0\" >0.233523</td>\n",
              "      <td id=\"T_0550a_row0_col1\" class=\"data row0 col1\" >-1.552392</td>\n",
              "      <td id=\"T_0550a_row0_col2\" class=\"data row0 col2\" >-0.339308</td>\n",
              "      <td id=\"T_0550a_row0_col3\" class=\"data row0 col3\" >0.432447</td>\n",
              "    </tr>\n",
              "    <tr>\n",
              "      <th id=\"T_0550a_level0_row1\" class=\"row_heading level0 row1\" >1</th>\n",
              "      <td id=\"T_0550a_row1_col0\" class=\"data row1 col0\" >0.413456</td>\n",
              "      <td id=\"T_0550a_row1_col1\" class=\"data row1 col1\" >2.139916</td>\n",
              "      <td id=\"T_0550a_row1_col2\" class=\"data row1 col2\" >0.993957</td>\n",
              "      <td id=\"T_0550a_row1_col3\" class=\"data row1 col3\" >-0.055343</td>\n",
              "    </tr>\n",
              "    <tr>\n",
              "      <th id=\"T_0550a_level0_row2\" class=\"row_heading level0 row2\" >2</th>\n",
              "      <td id=\"T_0550a_row2_col0\" class=\"data row2 col0\" >-0.190064</td>\n",
              "      <td id=\"T_0550a_row2_col1\" class=\"data row2 col1\" >1.169049</td>\n",
              "      <td id=\"T_0550a_row2_col2\" class=\"data row2 col2\" >0.045867</td>\n",
              "      <td id=\"T_0550a_row2_col3\" class=\"data row2 col3\" >-0.313233</td>\n",
              "    </tr>\n",
              "    <tr>\n",
              "      <th id=\"T_0550a_level0_row3\" class=\"row_heading level0 row3\" >3</th>\n",
              "      <td id=\"T_0550a_row3_col0\" class=\"data row3 col0\" >0.123567</td>\n",
              "      <td id=\"T_0550a_row3_col1\" class=\"data row3 col1\" >1.999046</td>\n",
              "      <td id=\"T_0550a_row3_col2\" class=\"data row3 col2\" >-0.388013</td>\n",
              "      <td id=\"T_0550a_row3_col3\" class=\"data row3 col3\" >0.353456</td>\n",
              "    </tr>\n",
              "    <tr>\n",
              "      <th id=\"T_0550a_level0_row4\" class=\"row_heading level0 row4\" >4</th>\n",
              "      <td id=\"T_0550a_row4_col0\" class=\"data row4 col0\" >-2.058660</td>\n",
              "      <td id=\"T_0550a_row4_col1\" class=\"data row4 col1\" >-0.653473</td>\n",
              "      <td id=\"T_0550a_row4_col2\" class=\"data row4 col2\" >1.457054</td>\n",
              "      <td id=\"T_0550a_row4_col3\" class=\"data row4 col3\" >-1.239894</td>\n",
              "    </tr>\n",
              "    <tr>\n",
              "      <th id=\"T_0550a_level0_row5\" class=\"row_heading level0 row5\" >5</th>\n",
              "      <td id=\"T_0550a_row5_col0\" class=\"data row5 col0\" >0.161873</td>\n",
              "      <td id=\"T_0550a_row5_col1\" class=\"data row5 col1\" >0.104100</td>\n",
              "      <td id=\"T_0550a_row5_col2\" class=\"data row5 col2\" >0.691755</td>\n",
              "      <td id=\"T_0550a_row5_col3\" class=\"data row5 col3\" >-0.950174</td>\n",
              "    </tr>\n",
              "    <tr>\n",
              "      <th id=\"T_0550a_level0_row6\" class=\"row_heading level0 row6\" >6</th>\n",
              "      <td id=\"T_0550a_row6_col0\" class=\"data row6 col0\" >2.439650</td>\n",
              "      <td id=\"T_0550a_row6_col1\" class=\"data row6 col1\" >0.494437</td>\n",
              "      <td id=\"T_0550a_row6_col2\" class=\"data row6 col2\" >0.983747</td>\n",
              "      <td id=\"T_0550a_row6_col3\" class=\"data row6 col3\" >-0.433338</td>\n",
              "    </tr>\n",
              "    <tr>\n",
              "      <th id=\"T_0550a_level0_row7\" class=\"row_heading level0 row7\" >7</th>\n",
              "      <td id=\"T_0550a_row7_col0\" class=\"data row7 col0\" >-1.360879</td>\n",
              "      <td id=\"T_0550a_row7_col1\" class=\"data row7 col1\" >1.126658</td>\n",
              "      <td id=\"T_0550a_row7_col2\" class=\"data row7 col2\" >-0.679945</td>\n",
              "      <td id=\"T_0550a_row7_col3\" class=\"data row7 col3\" >0.430664</td>\n",
              "    </tr>\n",
              "    <tr>\n",
              "      <th id=\"T_0550a_level0_row8\" class=\"row_heading level0 row8\" >8</th>\n",
              "      <td id=\"T_0550a_row8_col0\" class=\"data row8 col0\" >-1.760011</td>\n",
              "      <td id=\"T_0550a_row8_col1\" class=\"data row8 col1\" >1.196939</td>\n",
              "      <td id=\"T_0550a_row8_col2\" class=\"data row8 col2\" >0.995998</td>\n",
              "      <td id=\"T_0550a_row8_col3\" class=\"data row8 col3\" >0.835957</td>\n",
              "    </tr>\n",
              "    <tr>\n",
              "      <th id=\"T_0550a_level0_row9\" class=\"row_heading level0 row9\" >9</th>\n",
              "      <td id=\"T_0550a_row9_col0\" class=\"data row9 col0\" >0.028779</td>\n",
              "      <td id=\"T_0550a_row9_col1\" class=\"data row9 col1\" >0.008444</td>\n",
              "      <td id=\"T_0550a_row9_col2\" class=\"data row9 col2\" >-0.345334</td>\n",
              "      <td id=\"T_0550a_row9_col3\" class=\"data row9 col3\" >-0.661780</td>\n",
              "    </tr>\n",
              "  </tbody>\n",
              "</table>\n"
            ]
          },
          "metadata": {},
          "execution_count": 1
        }
      ],
      "source": [
        "import pandas as pd\n",
        "import numpy as np\n",
        "data = np.random.randn(10, 4)\n",
        "df = pd.DataFrame(data, columns=['Column1', 'Column2', 'Column3', 'Column4'])\n",
        "styled_df = df.style.set_properties(**{'background-color': 'black', 'color': 'yellow'})\n",
        "styled_df"
      ]
    }
  ]
}